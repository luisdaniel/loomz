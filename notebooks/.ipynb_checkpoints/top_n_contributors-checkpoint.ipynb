{
 "metadata": {
  "name": ""
 },
 "nbformat": 3,
 "nbformat_minor": 0,
 "worksheets": [
  {
   "cells": [
    {
     "cell_type": "raw",
     "metadata": {},
     "source": [
      "For an organization, let's see who contributes the most across discussions.\n",
      "For example, let's look at the Internet Party."
     ]
    },
    {
     "cell_type": "code",
     "collapsed": false,
     "input": [
      "from bs4 import BeautifulSoup\n",
      "import requests # The urllib2 module ist kaput\n",
      "from collections import defaultdict"
     ],
     "language": "python",
     "metadata": {},
     "outputs": [],
     "prompt_number": 1
    },
    {
     "cell_type": "code",
     "collapsed": false,
     "input": [
      "# Keep track of the times ea. user posts\n",
      "user_count = defaultdict(int)"
     ],
     "language": "python",
     "metadata": {},
     "outputs": [],
     "prompt_number": 2
    },
    {
     "cell_type": "code",
     "collapsed": false,
     "input": [
      "# First get all discussions\n",
      "base_url = \"https://internet-party.loomio.org/\" \n",
      "TOTAL_PGS = 16 # hardcode for now"
     ],
     "language": "python",
     "metadata": {},
     "outputs": [],
     "prompt_number": 3
    },
    {
     "cell_type": "code",
     "collapsed": false,
     "input": [
      "for i in range(1, TOTAL_PGS):\n",
      "    r = requests.get(base_url + \"?page=\" + str(i))\n",
      "    page = r.text\n",
      "    soup = BeautifulSoup(page)\n",
      "    titles = [t.text for t in soup.find_all('div', {'class':'discussion-title'})]\n",
      "    links = soup.find_all('a', {'class': 'selector-discussion-link'}) \n",
      "    \n",
      "    # Loop thru all convos\n",
      "    for title, link in zip(titles, links):\n",
      "        discussion_url = link.get('href')\n",
      "        r = requests.get(base_url + discussion_url)\n",
      "        page = r.text\n",
      "        soup = BeautifulSoup(page)\n",
      "\n",
      "        # Who's contributing to the convo?\n",
      "        users = soup.find_all('a', {'class': 'user-name'})\n",
      "        # Get names only\n",
      "        users = [u.text.strip() for u in users if u.text]\n",
      "        for u in users:\n",
      "            user_count[u] += 1"
     ],
     "language": "python",
     "metadata": {},
     "outputs": [],
     "prompt_number": 6
    },
    {
     "cell_type": "code",
     "collapsed": false,
     "input": [
      "# Sort users by contributions, descending\n",
      "users_desc = sorted(user_count.keys(),\n",
      "                key=lambda u: user_count[u],\n",
      "                reverse=True)"
     ],
     "language": "python",
     "metadata": {},
     "outputs": [],
     "prompt_number": 7
    },
    {
     "cell_type": "code",
     "collapsed": false,
     "input": [
      "# Get top n contributors\n",
      "n = 5\n",
      "for u in users_desc[:n]:\n",
      "    print u, user_count[u] "
     ],
     "language": "python",
     "metadata": {},
     "outputs": [
      {
       "output_type": "stream",
       "stream": "stdout",
       "text": [
        "Rangi Kemara 1108\n",
        "Reid Alexander Wicks 1106\n",
        "Marc Whinery 911\n",
        "Kenneth Kopelson 895\n",
        "Colin Davies 742\n"
       ]
      }
     ],
     "prompt_number": 8
    },
    {
     "cell_type": "code",
     "collapsed": false,
     "input": [],
     "language": "python",
     "metadata": {},
     "outputs": []
    }
   ],
   "metadata": {}
  }
 ]
}